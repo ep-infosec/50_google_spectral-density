{
  "cells": [
    {
      "cell_type": "markdown",
      "metadata": {
        "colab_type": "text",
        "id": "4ByiP0t5ZC7E"
      },
      "source": [
        "# Approximating the Hessian for large neural networks.\n",
        "\n",
        "This notebook describes how to use the spectral-density package with Tensorflow2. The main entry point of this package is the `lanczos_algorithm.approximate_hessian` function, compatible with Keras models. This function takes the following arguments:\n",
        "\n",
        "  - `model`: The Keras model for which we want to compute the Hessian.\n",
        "  - `dataset`: Dataset on which the model is trained. Can be a Tensorflow dataset, or more generally any iterator yielding tuples of data (X, y). If a Tensorflow dataset is used, it should be batched beforehand.\n",
        "  - `order`: Rank of the approximation of the Hessian. The higher the better the approximation. See paper for more details.\n",
        "  - `reduce_op`: Whether the loss function averages or sums the per sample loss. The default value is `MEAN` and should be compatible with most Keras losses, provided you didn't specify another reduction when instantiating it.\n",
        "  - `random_seed`: Seed to use to sample the first vector in the Lanczos algorithm.\n",
        "\n",
        "## Example 1: Full rank estimation for linear model.\n",
        "\n",
        "We start with a simplistic usecase: we wish to train the following model:\n",
        "\n",
        "$$ \\mbox{arg}\\max_\\beta \\sum_i (y_i - \\beta^Tx_i)^2$$\n",
        "\n",
        "As this optimization problem is quadratic, the Hessian of the loss is independent of $\\beta$ and is equal to $2X^TX$. Let's verify this using `lanczos_algorithm.approximate_hessian`, and setting the order of the approximation to the number of features, thus recovering the exact Hessian.\n",
        "\n",
        "We first generate some random inputs and outputs:"
      ]
    },
    {
      "cell_type": "code",
      "execution_count": 0,
      "metadata": {
        "colab": {},
        "colab_type": "code",
        "id": "GfgWEabwJBl-"
      },
      "outputs": [],
      "source": [
        "import tensorflow.compat.v2 as tf\n",
        "import tensorflow_datasets as tfds\n",
        "from matplotlib import pyplot as plt\n",
        "import seaborn as sns\n",
        "tf.enable_v2_behavior()\n",
        "\n",
        "import lanczos_algorithm"
      ]
    },
    {
      "cell_type": "code",
      "execution_count": 0,
      "metadata": {
        "colab": {},
        "colab_type": "code",
        "id": "IRa00ywOdysR"
      },
      "outputs": [],
      "source": [
        "num_samples = 50\n",
        "num_features = 16\n",
        "X = tf.random.normal([num_samples, num_features])\n",
        "y = tf.random.normal([num_samples])"
      ]
    },
    {
      "cell_type": "markdown",
      "metadata": {
        "colab_type": "text",
        "id": "E3MIEefYdzmW"
      },
      "source": [
        "We then define a linear model using the Keras API:"
      ]
    },
    {
      "cell_type": "code",
      "execution_count": 0,
      "metadata": {
        "colab": {},
        "colab_type": "code",
        "id": "CxtMbkZSd5rk"
      },
      "outputs": [],
      "source": [
        "linear_model = tf.keras.Sequential(\n",
        "    [tf.keras.Input(shape=[num_features]),\n",
        "     tf.keras.layers.Dense(1, use_bias=False)])"
      ]
    },
    {
      "cell_type": "markdown",
      "metadata": {
        "colab_type": "text",
        "id": "IFcGICeUeCHT"
      },
      "source": [
        "Finally, we define a loss function that takes as input the model and a batch of examples, and return a scalar loss. Here, we simply compute the mean squared error between the predictions of the model and the desired output. "
      ]
    },
    {
      "cell_type": "code",
      "execution_count": 0,
      "metadata": {
        "colab": {},
        "colab_type": "code",
        "id": "tR4HOuQTeOBs"
      },
      "outputs": [],
      "source": [
        "def loss_fn(model, inputs):\n",
        "  x, y = inputs\n",
        "  preds = linear_model(x)\n",
        "  return tf.keras.losses.mse(y, preds)"
      ]
    },
    {
      "cell_type": "markdown",
      "metadata": {
        "colab_type": "text",
        "id": "-Tl3QcCYeu1D"
      },
      "source": [
        "Fnally, we call `approximate_hessian`, setting order to the number of parameters to compute the exact Hessian. This function returns two tensors $(V, T)$ of shapes (num_parameters, order) and (order, order), such that :\n",
        "$$ H \\approx V T V^T $$\n",
        "with an equality if order = num_parameters."
      ]
    },
    {
      "cell_type": "code",
      "execution_count": 6,
      "metadata": {
        "colab": {
          "height": 305
        },
        "colab_type": "code",
        "executionInfo": {
          "elapsed": 3439,
          "status": "ok",
          "timestamp": 1584112100319,
          "user": {
            "displayName": "Pierre Foret",
            "photoUrl": "https://lh3.googleusercontent.com/a-/AOh14GgHNTtOk5LTxSObzKipclQGB_PYGFEjGL9Y65Rm=s64",
            "userId": "07616459484312176146"
          },
          "user_tz": 240
        },
        "id": "5jcoC48petZs",
        "outputId": "e4da27b3-0e5b-4927-bba2-455cf2943cfe"
      },
      "outputs": [
        {
          "name": "stdout",
          "output_type": "stream",
          "text": [
            "Iteration 0/16 done in 1.85s (MVP: 1.85s).\n",
            "Iteration 1/16 done in 0.08s (MVP: 0.07s).\n",
            "Iteration 2/16 done in 0.07s (MVP: 0.07s).\n",
            "Iteration 3/16 done in 0.07s (MVP: 0.07s).\n",
            "Iteration 4/16 done in 0.07s (MVP: 0.07s).\n",
            "Iteration 5/16 done in 0.07s (MVP: 0.07s).\n",
            "Iteration 6/16 done in 0.07s (MVP: 0.07s).\n",
            "Iteration 7/16 done in 0.07s (MVP: 0.07s).\n",
            "Iteration 8/16 done in 0.07s (MVP: 0.07s).\n",
            "Iteration 9/16 done in 0.08s (MVP: 0.07s).\n",
            "Iteration 10/16 done in 0.08s (MVP: 0.07s).\n",
            "Iteration 11/16 done in 0.07s (MVP: 0.06s).\n",
            "Iteration 12/16 done in 0.07s (MVP: 0.07s).\n",
            "Iteration 13/16 done in 0.07s (MVP: 0.07s).\n",
            "Iteration 14/16 done in 0.08s (MVP: 0.07s).\n",
            "Iteration 15/16 done in 0.07s (MVP: 0.07s).\n"
          ]
        }
      ],
      "source": [
        "V, T = lanczos_algorithm.approximate_hessian(\n",
        "        linear_model,\n",
        "        loss_fn,\n",
        "        [(X,y)],\n",
        "        order=num_features)"
      ]
    },
    {
      "cell_type": "markdown",
      "metadata": {
        "colab_type": "text",
        "id": "mIZTfNzvgA__"
      },
      "source": [
        "We can check that the reconstructed Hessian is indeed equal to $2X^TX$:"
      ]
    },
    {
      "cell_type": "code",
      "execution_count": 7,
      "metadata": {
        "colab": {
          "height": 339
        },
        "colab_type": "code",
        "executionInfo": {
          "elapsed": 1215,
          "status": "ok",
          "timestamp": 1584112101605,
          "user": {
            "displayName": "Pierre Foret",
            "photoUrl": "https://lh3.googleusercontent.com/a-/AOh14GgHNTtOk5LTxSObzKipclQGB_PYGFEjGL9Y65Rm=s64",
            "userId": "07616459484312176146"
          },
          "user_tz": 240
        },
        "id": "bybJ2JKCf3aa",
        "outputId": "7f76c35d-d3ad-462e-c6f2-bc42f7a5eb76"
      },
      "outputs": [
        {
          "data": {
            "image/png": "[encoded data removed]",
            "text/plain": [
              "\u003cFigure size 1400x500 with 4 Axes\u003e"
            ]
          },
          "metadata": {
            "tags": []
          },
          "output_type": "display_data"
        }
      ],
      "source": [
        "plt.figure(figsize=(14, 5))\n",
        "plt.subplot(1,2,1)\n",
        "H = tf.matmul(V, tf.matmul(T, V, transpose_b=True))\n",
        "plt.title(\"Hessian as estimated by Lanczos\")\n",
        "sns.heatmap(H)\n",
        "plt.subplot(1,2,2)\n",
        "plt.title(\"$2X^TX$\")\n",
        "sns.heatmap(2 * tf.matmul(X, X, transpose_a=True))\n",
        "plt.show()"
      ]
    },
    {
      "cell_type": "markdown",
      "metadata": {
        "colab_type": "text",
        "id": "hWLiHmlogwdl"
      },
      "source": [
        "## Example 2: Convnet on Cifar10\n",
        "\n",
        "We first define a VGG16-like model (15.2M parameters) that we train a bit on Cifar10:"
      ]
    },
    {
      "cell_type": "code",
      "execution_count": 57,
      "metadata": {
        "colab": {
          "height": 703
        },
        "colab_type": "code",
        "executionInfo": {
          "elapsed": 46490,
          "status": "ok",
          "timestamp": 1584116462804,
          "user": {
            "displayName": "Pierre Foret",
            "photoUrl": "https://lh3.googleusercontent.com/a-/AOh14GgHNTtOk5LTxSObzKipclQGB_PYGFEjGL9Y65Rm=s64",
            "userId": "07616459484312176146"
          },
          "user_tz": 240
        },
        "id": "z89elwuMKnpY",
        "outputId": "53123cf3-f1d7-410e-eb06-d3e28f538cf8"
      },
      "outputs": [
        {
          "name": "stdout",
          "output_type": "stream",
          "text": [
            "Model: \"sequential_23\"\n",
            "_________________________________________________________________\n",
            "Layer (type)                 Output Shape              Param #   \n",
            "=================================================================\n",
            "conv2d_31 (Conv2D)           (None, 30, 30, 64)        1792      \n",
            "_________________________________________________________________\n",
            "conv2d_32 (Conv2D)           (None, 28, 28, 64)        36928     \n",
            "_________________________________________________________________\n",
            "max_pooling2d_16 (MaxPooling (None, 14, 14, 64)        0         \n",
            "_________________________________________________________________\n",
            "conv2d_33 (Conv2D)           (None, 12, 12, 128)       73856     \n",
            "_________________________________________________________________\n",
            "conv2d_34 (Conv2D)           (None, 10, 10, 128)       147584    \n",
            "_________________________________________________________________\n",
            "max_pooling2d_17 (MaxPooling (None, 5, 5, 128)         0         \n",
            "_________________________________________________________________\n",
            "flatten_4 (Flatten)          (None, 3200)              0         \n",
            "_________________________________________________________________\n",
            "dense_37 (Dense)             (None, 1024)              3277824   \n",
            "_________________________________________________________________\n",
            "dense_38 (Dense)             (None, 10)                10250     \n",
            "=================================================================\n",
            "Total params: 3,548,234\n",
            "Trainable params: 3,548,234\n",
            "Non-trainable params: 0\n",
            "_________________________________________________________________\n",
            "None\n",
            "Epoch 1/5\n",
            "1563/1563 [==============================] - 9s 6ms/step - loss: 1.3764 - accuracy: 0.4998 - val_loss: 1.0746 - val_accuracy: 0.6177\n",
            "Epoch 2/5\n",
            "1563/1563 [==============================] - 7s 4ms/step - loss: 0.9059 - accuracy: 0.6833 - val_loss: 0.8607 - val_accuracy: 0.7103\n",
            "Epoch 3/5\n",
            "1563/1563 [==============================] - 7s 4ms/step - loss: 0.6986 - accuracy: 0.7546 - val_loss: 0.8410 - val_accuracy: 0.7226\n",
            "Epoch 4/5\n",
            "1563/1563 [==============================] - 7s 4ms/step - loss: 0.5355 - accuracy: 0.8101 - val_loss: 0.9354 - val_accuracy: 0.7227\n",
            "Epoch 5/5\n",
            "1563/1563 [==============================] - 7s 4ms/step - loss: 0.4030 - accuracy: 0.8575 - val_loss: 1.0839 - val_accuracy: 0.7120\n"
          ]
        }
      ],
      "source": [
        "def preprocess_images(tfrecord):\n",
        "  image, label = tfrecord['image'], tfrecord['label']\n",
        "  image = tf.cast(image, tf.float32) / 255.0\n",
        "  return image, label\n",
        "\n",
        "cifar_dataset_train = tfds.load(\"cifar10\", split=\"train\").map(preprocess_images).cache()\n",
        "cifar_dataset_test = tfds.load(\"cifar10\", split=\"test\").map(preprocess_images).cache()\n",
        "\n",
        "model = tf.keras.Sequential([\n",
        "  tf.keras.Input([32, 32, 3]),\n",
        "  tf.keras.layers.Conv2D(filters=64, kernel_size=3, activation='relu'),\n",
        "  tf.keras.layers.Conv2D(filters=64, kernel_size=3, activation='relu'),\n",
        "  tf.keras.layers.MaxPool2D(),\n",
        "  tf.keras.layers.Conv2D(filters=128, kernel_size=3, activation='relu'),\n",
        "  tf.keras.layers.Conv2D(filters=128, kernel_size=3, activation='relu'),\n",
        "  tf.keras.layers.MaxPool2D(),\n",
        "  tf.keras.layers.Flatten(),\n",
        "  tf.keras.layers.Dense(1024, activation='relu'),\n",
        "  tf.keras.layers.Dense(10)])\n",
        "\n",
        "model.compile(optimizer=tf.keras.optimizers.Adam(lr=0.001),\n",
        "              loss=tf.keras.losses.SparseCategoricalCrossentropy(from_logits=True),\n",
        "              metrics=['accuracy'])\n",
        "\n",
        "print(model.summary())\n",
        "\n",
        "_ = model.fit(cifar_dataset_train.batch(32),\n",
        "              validation_data=cifar_dataset_test.batch(128),\n",
        "              epochs=5)"
      ]
    },
    {
      "cell_type": "markdown",
      "metadata": {
        "colab_type": "text",
        "id": "cepQAqWFhRnG"
      },
      "source": [
        "Our loss function is a bit different from the previous one, as we now use cross-entropy to train our model. Don't forget to set `training=False` to deactivate dropouts and similar mechanisms.\n",
        " \n",
        "Computing an estimation of the Hessian will take a bit of time. A good rule of thumb is that the algorithm will take $T = order \\times 2 T_{epoch}$ units of time, where $T_{epoch}$ stands for the time needed to perform one training epoch."
      ]
    },
    {
      "cell_type": "code",
      "execution_count": 67,
      "metadata": {
        "colab": {
          "height": 1000
        },
        "colab_type": "code",
        "executionInfo": {
          "elapsed": 786264,
          "status": "ok",
          "timestamp": 1584120825465,
          "user": {
            "displayName": "Pierre Foret",
            "photoUrl": "https://lh3.googleusercontent.com/a-/AOh14GgHNTtOk5LTxSObzKipclQGB_PYGFEjGL9Y65Rm=s64",
            "userId": "07616459484312176146"
          },
          "user_tz": 240
        },
        "id": "3f-QQFHLPs9g",
        "outputId": "de799dc7-b115-429f-f2f6-6dfa150a417d"
      },
      "outputs": [
        {
          "name": "stdout",
          "output_type": "stream",
          "text": [
            "Iteration 0/90 done in 8.42s (MVP: 8.42s).\n",
            "Iteration 1/90 done in 8.25s (MVP: 8.23s).\n",
            "Iteration 2/90 done in 8.28s (MVP: 8.26s).\n",
            "Iteration 3/90 done in 8.29s (MVP: 8.26s).\n",
            "Iteration 4/90 done in 8.27s (MVP: 8.23s).\n",
            "Iteration 5/90 done in 8.29s (MVP: 8.24s).\n",
            "Iteration 6/90 done in 8.31s (MVP: 8.24s).\n",
            "Iteration 7/90 done in 8.41s (MVP: 8.34s).\n",
            "Iteration 8/90 done in 8.37s (MVP: 8.28s).\n",
            "Iteration 9/90 done in 8.34s (MVP: 8.24s).\n",
            "Iteration 10/90 done in 8.32s (MVP: 8.21s).\n",
            "Iteration 11/90 done in 8.35s (MVP: 8.23s).\n",
            "Iteration 12/90 done in 8.40s (MVP: 8.27s).\n",
            "Iteration 13/90 done in 8.39s (MVP: 8.24s).\n",
            "Iteration 14/90 done in 8.41s (MVP: 8.26s).\n",
            "Iteration 15/90 done in 8.42s (MVP: 8.25s).\n",
            "Iteration 16/90 done in 8.50s (MVP: 8.33s).\n",
            "Iteration 17/90 done in 8.41s (MVP: 8.22s).\n",
            "Iteration 18/90 done in 8.40s (MVP: 8.21s).\n",
            "Iteration 19/90 done in 8.44s (MVP: 8.24s).\n",
            "Iteration 20/90 done in 8.46s (MVP: 8.24s).\n",
            "Iteration 21/90 done in 8.49s (MVP: 8.26s).\n",
            "Iteration 22/90 done in 8.48s (MVP: 8.24s).\n",
            "Iteration 23/90 done in 8.52s (MVP: 8.27s).\n",
            "Iteration 24/90 done in 8.58s (MVP: 8.32s).\n",
            "Iteration 25/90 done in 8.55s (MVP: 8.27s).\n",
            "Iteration 26/90 done in 8.52s (MVP: 8.24s).\n",
            "Iteration 27/90 done in 8.50s (MVP: 8.21s).\n",
            "Iteration 28/90 done in 8.55s (MVP: 8.24s).\n",
            "Iteration 29/90 done in 8.56s (MVP: 8.25s).\n",
            "Iteration 30/90 done in 8.66s (MVP: 8.33s).\n",
            "Iteration 31/90 done in 8.60s (MVP: 8.26s).\n",
            "Iteration 32/90 done in 8.55s (MVP: 8.20s).\n",
            "Iteration 33/90 done in 8.62s (MVP: 8.26s).\n",
            "Iteration 34/90 done in 8.61s (MVP: 8.24s).\n",
            "Iteration 35/90 done in 8.56s (MVP: 8.18s).\n",
            "Iteration 36/90 done in 8.56s (MVP: 8.17s).\n",
            "Iteration 37/90 done in 8.60s (MVP: 8.19s).\n",
            "Iteration 38/90 done in 8.59s (MVP: 8.18s).\n",
            "Iteration 39/90 done in 8.61s (MVP: 8.18s).\n",
            "Iteration 40/90 done in 8.59s (MVP: 8.16s).\n",
            "Iteration 41/90 done in 8.61s (MVP: 8.16s).\n",
            "Iteration 42/90 done in 8.62s (MVP: 8.16s).\n",
            "Iteration 43/90 done in 8.63s (MVP: 8.16s).\n",
            "Iteration 44/90 done in 8.62s (MVP: 8.15s).\n",
            "Iteration 45/90 done in 8.82s (MVP: 8.34s).\n",
            "Iteration 46/90 done in 8.77s (MVP: 8.27s).\n",
            "Iteration 47/90 done in 8.71s (MVP: 8.20s).\n",
            "Iteration 48/90 done in 8.75s (MVP: 8.23s).\n",
            "Iteration 49/90 done in 8.82s (MVP: 8.29s).\n",
            "Iteration 50/90 done in 8.76s (MVP: 8.21s).\n",
            "Iteration 51/90 done in 8.75s (MVP: 8.20s).\n",
            "Iteration 52/90 done in 8.73s (MVP: 8.17s).\n",
            "Iteration 53/90 done in 8.89s (MVP: 8.32s).\n",
            "Iteration 54/90 done in 9.03s (MVP: 8.45s).\n",
            "Iteration 55/90 done in 8.96s (MVP: 8.36s).\n",
            "Iteration 56/90 done in 8.89s (MVP: 8.29s).\n",
            "Iteration 57/90 done in 8.80s (MVP: 8.18s).\n",
            "Iteration 58/90 done in 8.87s (MVP: 8.24s).\n",
            "Iteration 59/90 done in 8.87s (MVP: 8.23s).\n",
            "Iteration 60/90 done in 8.82s (MVP: 8.17s).\n",
            "Iteration 61/90 done in 8.90s (MVP: 8.24s).\n",
            "Iteration 62/90 done in 8.89s (MVP: 8.22s).\n",
            "Iteration 63/90 done in 8.85s (MVP: 8.17s).\n",
            "Iteration 64/90 done in 8.88s (MVP: 8.19s).\n",
            "Iteration 65/90 done in 8.92s (MVP: 8.22s).\n",
            "Iteration 66/90 done in 8.93s (MVP: 8.22s).\n",
            "Iteration 67/90 done in 8.91s (MVP: 8.19s).\n",
            "Iteration 68/90 done in 8.93s (MVP: 8.20s).\n",
            "Iteration 69/90 done in 8.97s (MVP: 8.22s).\n",
            "Iteration 70/90 done in 9.98s (MVP: 9.23s).\n",
            "Iteration 71/90 done in 8.97s (MVP: 8.21s).\n",
            "Iteration 72/90 done in 8.98s (MVP: 8.20s).\n",
            "Iteration 73/90 done in 8.98s (MVP: 8.20s).\n",
            "Iteration 74/90 done in 9.10s (MVP: 8.30s).\n",
            "Iteration 75/90 done in 9.06s (MVP: 8.25s).\n",
            "Iteration 76/90 done in 9.24s (MVP: 8.42s).\n",
            "Iteration 77/90 done in 9.06s (MVP: 8.23s).\n",
            "Iteration 78/90 done in 9.08s (MVP: 8.23s).\n",
            "Iteration 79/90 done in 9.05s (MVP: 8.20s).\n",
            "Iteration 80/90 done in 9.10s (MVP: 8.23s).\n",
            "Iteration 81/90 done in 9.09s (MVP: 8.22s).\n",
            "Iteration 82/90 done in 9.20s (MVP: 8.31s).\n",
            "Iteration 83/90 done in 9.10s (MVP: 8.20s).\n",
            "Iteration 84/90 done in 9.07s (MVP: 8.16s).\n",
            "Iteration 85/90 done in 9.23s (MVP: 8.32s).\n",
            "Iteration 86/90 done in 9.11s (MVP: 8.18s).\n",
            "Iteration 87/90 done in 9.09s (MVP: 8.15s).\n",
            "Iteration 88/90 done in 9.10s (MVP: 8.15s).\n",
            "Iteration 89/90 done in 9.14s (MVP: 8.18s).\n"
          ]
        }
      ],
      "source": [
        "SCCE = tf.keras.losses.SparseCategoricalCrossentropy(from_logits=True)\n",
        "\n",
        "def loss_fn(model, inputs):\n",
        "  x, y = inputs\n",
        "  preds = model(x, training=False)\n",
        "  return SCCE(y, preds)\n",
        "\n",
        "V, T = lanczos_algorithm.approximate_hessian(\n",
        "        model,\n",
        "        loss_fn,\n",
        "        mnist_dataset.batch(128),\n",
        "        order=90,\n",
        "        random_seed=1)"
      ]
    },
    {
      "cell_type": "markdown",
      "metadata": {
        "colab_type": "text",
        "id": "WWfTsSqTM5NW"
      },
      "source": [
        "Finally, you can use the visualization functions provided in `jax.density` to plot the spectum (no actual JAX code is involved in this operation)."
      ]
    },
    {
      "cell_type": "code",
      "execution_count": 64,
      "metadata": {
        "colab": {
          "height": 285
        },
        "colab_type": "code",
        "executionInfo": {
          "elapsed": 1013,
          "status": "ok",
          "timestamp": 1584117377622,
          "user": {
            "displayName": "Pierre Foret",
            "photoUrl": "https://lh3.googleusercontent.com/a-/AOh14GgHNTtOk5LTxSObzKipclQGB_PYGFEjGL9Y65Rm=s64",
            "userId": "07616459484312176146"
          },
          "user_tz": 240
        },
        "id": "kgi62ShoaK1J",
        "outputId": "fbee16aa-ec6e-41e1-8545-917379dc231a"
      },
      "outputs": [
        {
          "data": {
            "image/png": "[encoded data removed]",
            "text/plain": [
              "\u003cFigure size 600x400 with 1 Axes\u003e"
            ]
          },
          "metadata": {
            "tags": []
          },
          "output_type": "display_data"
        }
      ],
      "source": [
        "import ..jax.density as density_lib\n",
        "\n",
        "def plot(grids, density, label=None):\n",
        "  plt.semilogy(grids, density, label=label)\n",
        "  plt.ylim(1e-10, 1e2)\n",
        "  plt.ylabel(\"Density\")\n",
        "  plt.xlabel(\"Eigenvalue\")\n",
        "  plt.legend()\n",
        "\n",
        "density, grids = density_lib.tridiag_to_density(\n",
        "    [T.numpy()], grid_len=10000, sigma_squared=1e-3)\n",
        "\n",
        "plot(grids, density)"
      ]
    }
  ],
  "metadata": {
    "colab": {
      "last_runtime": {
        "build_target": "//learning/deepmind/dm_python:dm_notebook3",
        "kind": "private"
      },
      "name": "Lanczos example.ipynb",
      "provenance": [
        {
          "file_id": "1fd-cGlfFirMjJ8tdbETKkmq0Nge2Ctan",
          "timestamp": 1584126624544
        }
      ]
    },
    "kernelspec": {
      "display_name": "Python 3",
      "name": "python3"
    }
  },
  "nbformat": 4,
  "nbformat_minor": 0
}
